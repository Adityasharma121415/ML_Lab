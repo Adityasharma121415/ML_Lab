{
  "nbformat": 4,
  "nbformat_minor": 0,
  "metadata": {
    "colab": {
      "provenance": []
    },
    "kernelspec": {
      "name": "python3",
      "display_name": "Python 3"
    },
    "language_info": {
      "name": "python"
    }
  },
  "cells": [
    {
      "cell_type": "code",
      "execution_count": null,
      "metadata": {
        "id": "WueMi1ClBpr2"
      },
      "outputs": [],
      "source": [
        "import pandas as pd\n",
        "import matplotlib.pyplot as plt\n",
        "from sklearn.datasets import load_iris\n",
        "from sklearn.model_selection import train_test_split\n",
        "from sklearn.svm import SVC\n",
        "from sklearn.metrics import accuracy_score\n",
        "\n",
        "# Load the Iris dataset\n",
        "iris = load_iris()\n",
        "\n",
        "# Convert the dataset into a pandas DataFrame\n",
        "iris_df = pd.DataFrame(data=iris.data, columns=iris.feature_names)\n",
        "iris_df['target'] = iris.target\n",
        "\n",
        "# Display the first few rows of the DataFrame\n",
        "print(iris_df.head())\n",
        "\n",
        "# Plotting to visualize the data\n",
        "plt.figure(figsize=(10, 6))\n",
        "plt.scatter(iris_df['sepal length (cm)'], iris_df['sepal width (cm)'],\n",
        "            c=iris_df['target'], cmap='viridis')\n",
        "plt.xlabel('Sepal Length (cm)')\n",
        "plt.ylabel('Sepal Width (cm)')\n",
        "plt.title('Iris Dataset - Sepal Length vs Sepal Width')\n",
        "plt.colorbar(label='Species')\n",
        "plt.show()\n",
        "\n",
        "# Splitting the dataset into training and testing sets\n",
        "X_train, X_test, y_train, y_test = train_test_split(iris.data, iris.target, test_size=0.3, random_state=42)\n",
        "\n",
        "# Creating and training the SVM classifier\n",
        "svm_classifier = SVC(kernel='linear')\n",
        "svm_classifier.fit(X_train, y_train)\n",
        "\n",
        "# Predicting the labels for the test set\n",
        "y_pred = svm_classifier.predict(X_test)\n",
        "\n",
        "# Calculating the accuracy of the model\n",
        "accuracy = accuracy_score(y_test, y_pred)\n",
        "print(\"Accuracy of SVM Classifier:\", accuracy)\n"
      ]
    }
  ]
}