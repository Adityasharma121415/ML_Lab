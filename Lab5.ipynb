{
  "nbformat": 4,
  "nbformat_minor": 0,
  "metadata": {
    "colab": {
      "provenance": [],
      "authorship_tag": "ABX9TyOjCJrS7EYbYYfrnUCNWABm",
      "include_colab_link": true
    },
    "kernelspec": {
      "name": "python3",
      "display_name": "Python 3"
    },
    "language_info": {
      "name": "python"
    }
  },
  "cells": [
    {
      "cell_type": "markdown",
      "metadata": {
        "id": "view-in-github",
        "colab_type": "text"
      },
      "source": [
        "<a href=\"https://colab.research.google.com/github/VarunRajCSLAB/ML_Lab/blob/main/Lab5.ipynb\" target=\"_parent\"><img src=\"https://colab.research.google.com/assets/colab-badge.svg\" alt=\"Open In Colab\"/></a>"
      ]
    },
    {
      "cell_type": "code",
      "execution_count": 1,
      "metadata": {
        "id": "8T_2mQ8N15UI"
      },
      "outputs": [],
      "source": [
        "import pandas as pd\n",
        "from matplotlib import pyplot as plt\n",
        "%matplotlib inline"
      ]
    },
    {
      "cell_type": "code",
      "source": [
        "df = pd.read_csv(\"insurance_data.csv\")\n",
        "df.head()\n",
        "plt.scatter(df.age,df.bought_insurance,marker ='+',color ='red')"
      ],
      "metadata": {
        "colab": {
          "base_uri": "https://localhost:8080/",
          "height": 447
        },
        "id": "qmOLHQAe2YAp",
        "outputId": "e6274a03-9e30-43a9-8c31-73c902dc3f25"
      },
      "execution_count": 4,
      "outputs": [
        {
          "output_type": "execute_result",
          "data": {
            "text/plain": [
              "<matplotlib.collections.PathCollection at 0x7e3b7e4c9cf0>"
            ]
          },
          "metadata": {},
          "execution_count": 4
        },
        {
          "output_type": "display_data",
          "data": {
            "text/plain": [
              "<Figure size 640x480 with 1 Axes>"
            ],
            "image/png": "[encoded data removed]"
          },
          "metadata": {}
        }
      ]
    },
    {
      "cell_type": "code",
      "source": [
        "from sklearn.model_selection import train_test_split\n",
        "X_train, X_test, y_train, y_test = train_test_split(df[['age']],df.bought_insurance,train_size=0.8)\n",
        "print(X_test)"
      ],
      "metadata": {
        "colab": {
          "base_uri": "https://localhost:8080/"
        },
        "id": "LrH7b64j3W-i",
        "outputId": "ed27b5c3-dc0d-48fa-ae23-476f62a88282"
      },
      "execution_count": 8,
      "outputs": [
        {
          "output_type": "stream",
          "name": "stdout",
          "text": [
            "    age\n",
            "18   19\n",
            "14   49\n",
            "21   26\n",
            "19   18\n",
            "4    46\n",
            "10   18\n"
          ]
        }
      ]
    },
    {
      "cell_type": "code",
      "source": [
        "from sklearn.linear_model import LogisticRegression\n",
        "model = LogisticRegression()\n",
        "model.fit(X_train, y_train)\n",
        "print(X_test)\n",
        "y_predicted = model.predict(X_test)\n",
        "probab = model.predict_proba(X_test)\n",
        "score = model.score(X_test,y_test)\n",
        "print(y_predicted)\n",
        "print(\"\\nprobability: \")\n",
        "print(probab)\n",
        "print(\"\\naccuracy: \")\n",
        "print(score)"
      ],
      "metadata": {
        "colab": {
          "base_uri": "https://localhost:8080/"
        },
        "id": "8SJFZ2xZ3kYR",
        "outputId": "d26c5932-18d8-4006-e1ad-55efa4146810"
      },
      "execution_count": 21,
      "outputs": [
        {
          "output_type": "stream",
          "name": "stdout",
          "text": [
            "    age\n",
            "18   19\n",
            "14   49\n",
            "21   26\n",
            "19   18\n",
            "4    46\n",
            "10   18\n",
            "[0 1 0 0 1 0]\n",
            "\n",
            "probability: \n",
            "[[0.9097009  0.0902991 ]\n",
            " [0.23998059 0.76001941]\n",
            " [0.81787372 0.18212628]\n",
            " [0.91874484 0.08125516]\n",
            " [0.30863501 0.69136499]\n",
            " [0.91874484 0.08125516]]\n",
            "\n",
            "accuracy: \n",
            "1.0\n"
          ]
        }
      ]
    },
    {
      "cell_type": "code",
      "source": [
        "print(X_test)"
      ],
      "metadata": {
        "colab": {
          "base_uri": "https://localhost:8080/"
        },
        "id": "if_Cpidt4oAx",
        "outputId": "bd770141-fd49-46e1-99fc-e2dd76ecf26a"
      },
      "execution_count": 17,
      "outputs": [
        {
          "output_type": "stream",
          "name": "stdout",
          "text": [
            "    age\n",
            "18   19\n",
            "14   49\n",
            "21   26\n",
            "19   18\n",
            "4    46\n",
            "10   18\n"
          ]
        }
      ]
    },
    {
      "cell_type": "code",
      "source": [
        "import math\n",
        "def sigmoid(x):\n",
        "  return 1 / (1 + math.exp(-x))\n",
        ""
      ],
      "metadata": {
        "id": "KGlFHlaF5Bgv"
      },
      "execution_count": 22,
      "outputs": []
    },
    {
      "cell_type": "code",
      "source": [
        "def prediction_function(age):\n",
        "  z = 0.042 * age - 1.53 # 0.04150133 ~ 0.042 and -1.52726963 ~ -1.53\n",
        "  y = sigmoid(z)\n",
        "  return y"
      ],
      "metadata": {
        "id": "o4nPm8hf5LA5"
      },
      "execution_count": 27,
      "outputs": []
    },
    {
      "cell_type": "code",
      "source": [
        "age = 35\n",
        "probability = prediction_function(age)\n",
        "print(\"Probability of buying insurance for age 35:\", probability)"
      ],
      "metadata": {
        "colab": {
          "base_uri": "https://localhost:8080/"
        },
        "id": "2_VaRPLw5V5Z",
        "outputId": "75ceb7a3-f2d9-4df4-c7e7-39f42b9a00eb"
      },
      "execution_count": 28,
      "outputs": [
        {
          "output_type": "stream",
          "name": "stdout",
          "text": [
            "Probability of buying insurance for age 35: 0.4850044983805899\n"
          ]
        }
      ]
    },
    {
      "cell_type": "code",
      "source": [
        "age = 43\n",
        "probability = prediction_function(age)\n",
        "print(\"Probability of buying insurance for age 43:\", probability)"
      ],
      "metadata": {
        "colab": {
          "base_uri": "https://localhost:8080/"
        },
        "id": "px39GPZp5l1B",
        "outputId": "bb17a6c0-eb54-4a43-fb87-3949073fdc1c"
      },
      "execution_count": 30,
      "outputs": [
        {
          "output_type": "stream",
          "name": "stdout",
          "text": [
            "Probability of buying insurance for age 43: 0.568565299077705\n"
          ]
        }
      ]
    }
  ]
}